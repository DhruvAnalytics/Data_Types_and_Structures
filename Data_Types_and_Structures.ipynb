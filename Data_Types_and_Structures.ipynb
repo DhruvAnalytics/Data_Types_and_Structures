{
  "nbformat": 4,
  "nbformat_minor": 0,
  "metadata": {
    "colab": {
      "provenance": []
    },
    "kernelspec": {
      "name": "python3",
      "display_name": "Python 3"
    },
    "language_info": {
      "name": "python"
    }
  },
  "cells": [
    {
      "cell_type": "markdown",
      "source": [
        "# Data Types and Structures : Theorical Questions"
      ],
      "metadata": {
        "id": "YLU-00hqHBeW"
      }
    },
    {
      "cell_type": "markdown",
      "source": [
        "1. What are data structures and why are they important?\n",
        "  - A data structure is a way of organizing, storing and managing data in a computer so that it can be used efficiently. They define how data is stored, accessed and manipulated in a program.\n",
        "  - Why they are important :\n",
        "      - They help in storing and retrieving data quickly.\n",
        "      - Well-defined data structures can be reused in multiple parts of a program or in different programs.\n",
        "      - Choosing the right data structure improves speed and reduces memory usage.\n",
        "      - Data structures are very closely connected to algorithms. The design of efficient algorithms is often dependent on the use of correct data structures."
      ],
      "metadata": {
        "id": "wcocO5SJH34Y"
      }
    },
    {
      "cell_type": "markdown",
      "source": [
        "2. Explain the difference between mutable and immutable data types with examples.\n",
        "  - The difference Between Mutable and Immutable data types in Python is :\n",
        "      - Mutable Data Types : It can be changed after creation (modification, addition or deletion of elements). Memory location of it remains the same after modification. Mutable data types: list, dict, set.\n",
        "      - Immutable Data Types : It cannot be changed after creation. If we modify it using typecasting or any other way, a new object will be created in memory. Memory location of it changes when we modify the value. Immutable data types: int, float, bool, str, tuple."
      ],
      "metadata": {
        "id": "pn3vMEIHMSYJ"
      }
    },
    {
      "cell_type": "code",
      "execution_count": null,
      "metadata": {
        "colab": {
          "base_uri": "https://localhost:8080/",
          "height": 211
        },
        "id": "X3W8QIF4G3Ch",
        "outputId": "d8ce0ae9-3f87-4fdd-eafd-c5418cd478ac"
      },
      "outputs": [
        {
          "output_type": "stream",
          "name": "stdout",
          "text": [
            "[1, 2, 3, 4, 5]\n"
          ]
        },
        {
          "output_type": "error",
          "ename": "TypeError",
          "evalue": "'tuple' object does not support item assignment",
          "traceback": [
            "\u001b[0;31m---------------------------------------------------------------------------\u001b[0m",
            "\u001b[0;31mTypeError\u001b[0m                                 Traceback (most recent call last)",
            "\u001b[0;32m<ipython-input-2-3424918dbdb2>\u001b[0m in \u001b[0;36m<cell line: 0>\u001b[0;34m()\u001b[0m\n\u001b[1;32m      8\u001b[0m \u001b[0;31m# immutable data type (tuple) :\u001b[0m\u001b[0;34m\u001b[0m\u001b[0;34m\u001b[0m\u001b[0m\n\u001b[1;32m      9\u001b[0m \u001b[0mword\u001b[0m \u001b[0;34m=\u001b[0m \u001b[0;34m(\u001b[0m\u001b[0;34m\"Hello\"\u001b[0m\u001b[0;34m,\u001b[0m \u001b[0;34m\"Good\"\u001b[0m\u001b[0;34m,\u001b[0m \u001b[0;34m\"morning\"\u001b[0m\u001b[0;34m)\u001b[0m\u001b[0;34m\u001b[0m\u001b[0;34m\u001b[0m\u001b[0m\n\u001b[0;32m---> 10\u001b[0;31m \u001b[0mword\u001b[0m\u001b[0;34m[\u001b[0m\u001b[0;36m2\u001b[0m\u001b[0;34m]\u001b[0m \u001b[0;34m=\u001b[0m \u001b[0;34m\"evening\"\u001b[0m \u001b[0;31m# error\u001b[0m\u001b[0;34m\u001b[0m\u001b[0;34m\u001b[0m\u001b[0m\n\u001b[0m\u001b[1;32m     11\u001b[0m \u001b[0mprint\u001b[0m\u001b[0;34m(\u001b[0m\u001b[0mword\u001b[0m\u001b[0;34m)\u001b[0m\u001b[0;34m\u001b[0m\u001b[0;34m\u001b[0m\u001b[0m\n",
            "\u001b[0;31mTypeError\u001b[0m: 'tuple' object does not support item assignment"
          ]
        }
      ],
      "source": [
        "# example of mutable and immutable data types :\n",
        "\n",
        "#mutable data type (list) :\n",
        "numbers = [1,2,3,4]\n",
        "numbers.append(5) #add the value in list\n",
        "print(numbers)\n",
        "\n",
        "# immutable data type (tuple) :\n",
        "word = (\"Hello\", \"Good\", \"morning\")\n",
        "word[2] = \"evening\" # error\n",
        "print(word)"
      ]
    },
    {
      "cell_type": "markdown",
      "source": [
        "3. What are the main differences between lists and tuples in Python?\n",
        "  - Both lists and tuples are used to store multiple items in a single variable, but the difference between them is :     \n",
        "       - list : It is mutable, so elements can be modified, added or removed after creation. Lists use square brackets []. Due to mutability, lists have higher memory usage and slower performance compared to tuples. They are suitable for dynamic data that may change frequently. Example : l = [1,2,3]\n",
        "       - tuple : It is immutable, so data cannot be changed, added or removed after creation. Tuples use parentheses (). Due to immutability, tuples offer better performance and lower memory usage. They are suitable for fixed data. Example : t = (1,2,3)"
      ],
      "metadata": {
        "id": "UbX66dBHSDk3"
      }
    },
    {
      "cell_type": "markdown",
      "source": [
        "4.  Describe how dictionaries store data.\n",
        "  - Dictionary is an unordered, mutable collection that stores data as key-value pairs. This means that each piece of data is associated with a unique identifier, the \"key.\"\n",
        "  - Dictionary uses curly braces {}.\n",
        "  - Each key in a dictionary must be unique and hashable. Keys are used to generate a hash value, which determines where the key-value pair is stored in memory.\n",
        "  - Internal working :\n",
        "       - When we add a key-value pair to a dictionary, the hash function calculates the key's hash values/code.\n",
        "       - This hash code is used to determine the memory location where the value will be stored.\n",
        "       - When we want to retrieve a value, we provide the key and the hash function calculates its hash code again.\n",
        "       - The dictionary then uses this hash code to quickly locate the value in memory."
      ],
      "metadata": {
        "id": "PfQwkY4eUPg7"
      }
    },
    {
      "cell_type": "code",
      "source": [
        "# example of dictionary :\n",
        "student = {\"name\" : \"Dhruv\", \"course\" : \"Data Analytics\", \"duration in months\" : 6}\n",
        "\n",
        "print(student)\n",
        "\n",
        "# get the value using key\n",
        "print(f\"Name of student is:\", student[\"name\"])"
      ],
      "metadata": {
        "colab": {
          "base_uri": "https://localhost:8080/"
        },
        "id": "TcbtS2vkQ5Y0",
        "outputId": "c91f7a64-8b67-41d1-c830-9c1ab4191d98"
      },
      "execution_count": null,
      "outputs": [
        {
          "output_type": "stream",
          "name": "stdout",
          "text": [
            "{'name': 'Dhruv', 'course': 'Data Analytics', 'duration in months': 6}\n",
            "Name of student is: Dhruv\n"
          ]
        }
      ]
    },
    {
      "cell_type": "markdown",
      "source": [
        "5. Why might you use a set instead of a list in Python?\n",
        "  - Set is an unordered, mutable collection of unique elements. It efficient for certain operations compared to a list :    \n",
        "      - Sets store only unique values, automatically removing duplicates. Whereas, lists allow duplicates, which might require extra checks for uniqueness.\n",
        "      - Sets support efficient mathematical operations such as union, intersection and difference, which are costly with lists.\n",
        "      - Sets use a hash table, allowing O(1) time complexity for checking membership(in) operator. However, lists require O(n) time, as they check each element sequentially."
      ],
      "metadata": {
        "id": "nR-rNNJ-Z0Zp"
      }
    },
    {
      "cell_type": "code",
      "source": [
        "# example of set :\n",
        "l = [1,2,2,2,2,2,3,4,5,6,7,8,9,10]\n",
        "\n",
        "print(set(l)) # it remove the duplicate value."
      ],
      "metadata": {
        "colab": {
          "base_uri": "https://localhost:8080/"
        },
        "id": "xEDlbLgMcMmb",
        "outputId": "5ce99367-3baa-48d7-b099-0f8c9670db41"
      },
      "execution_count": null,
      "outputs": [
        {
          "output_type": "stream",
          "name": "stdout",
          "text": [
            "{1, 2, 3, 4, 5, 6, 7, 8, 9, 10}\n"
          ]
        }
      ]
    },
    {
      "cell_type": "markdown",
      "source": [
        "6.  What is a string in Python and how is it different from a list?\n",
        "  - String in Python is a sequence of characters enclosed in single ('), double (\") or triple ((\"\"\") or (''')) quotes. Strings are immutable, meaning they cannot be modified after creation. Example : s = \"Hello, Good morining.\"\n",
        "\n",
        "  - The difference between them :      \n",
        "      - string : A sequence of characters enclosed in quotes. Strings are immutable. It has only characters and Stores characters as a whole string. It Supports concatenation (+) and repetition (*) operations.\n",
        "      - list : A sequence of elements in square brackets []. Lists are mutable. It can hold multiple data types and stores individual elements. It supports append, remove, insert and sort operations."
      ],
      "metadata": {
        "id": "2IklbgmUcw8R"
      }
    },
    {
      "cell_type": "markdown",
      "source": [
        "7. How do tuples ensure data integrity in Python?\n",
        "  - How tuples ensure data integrity in python :    \n",
        "      - Immutability : Tuples are immutable, meaning their elements cannot be changed, added or removed after creation. This prevents accidental modifications.\n",
        "      - Hashability : Since tuples are immutable, they can be used as keys in dictionaries and elements in sets, ensuring data consistency.\n",
        "      - Data Safety : Since tuples cannot be altered, they are safe to use when passing data between functions or storing critical information that should remain unchanged.\n",
        "\n",
        "\n",
        "\n"
      ],
      "metadata": {
        "id": "QeEqfeU3f9XW"
      }
    },
    {
      "cell_type": "markdown",
      "source": [
        "8.  What is a hash table and how does it relate to dictionaries in Python?\n",
        "  - Hash table is a data structure that stores key-value pairs using a hash function to map keys to specific memory locations. This allows for fast retrieval, insertion and deletion of data.\n",
        "  - Relation to Python Dictionaries :\n",
        "      - Dictionaries are implemented using hash tables.\n",
        "      - Each key in a dictionary is hashed to generate a unique index in memory where its corresponding value is stored.\n",
        "      - This makes dictionary operations like insertion and deletion very efficient.\n",
        "  - The important point is that only immutable types (e.g. strings, numbers, tuples) can be used as dictionary keys because they are hashable."
      ],
      "metadata": {
        "id": "BKJXVoq3O4pQ"
      }
    },
    {
      "cell_type": "markdown",
      "source": [
        "9. Can lists contain different data types in Python?\n",
        "  - Yes, lists can contain different data types in Python.\n",
        "  - Python lists are heterogeneous, meaning they can store elements of different data types such as integers, floats, strings, booleans, other lists, tuples, dictionaries and even functions.\n",
        "  - This flexibility makes lists powerful and versatile in Python programming."
      ],
      "metadata": {
        "id": "DVPrsFeDQk8N"
      }
    },
    {
      "cell_type": "code",
      "source": [
        "l = [1, \"Hello\", True, 1 + 2j, [1,2,3], (4,5,6)]\n",
        "print(\"List:\",l)"
      ],
      "metadata": {
        "colab": {
          "base_uri": "https://localhost:8080/"
        },
        "id": "vxkjOE-tYlfA",
        "outputId": "790b0ede-8da6-4a68-c270-68d8a189d6ec"
      },
      "execution_count": null,
      "outputs": [
        {
          "output_type": "stream",
          "name": "stdout",
          "text": [
            "List: [1, 'Hello', True, (1+2j), [1, 2, 3], (4, 5, 6)]\n"
          ]
        }
      ]
    },
    {
      "cell_type": "markdown",
      "source": [
        "10. Explain why strings are immutable in Python.\n",
        "   - Strings are immutable, meaning once a string is created, it cannot be changed. If any modification is attempted, a new string object is created instead of modifying the original one.\n",
        "   - Reasons for String Immutability :\n",
        "      - Memory Efficiency : Since strings are widely used, immutability helps in optimizing memory usage by allowing Python to internally reuse existing strings instead of creating duplicates.\n",
        "      - Security : Strings are often used as keys in dictionaries or as data in sensitive operations (like passwords). Immutability prevents accidental changes.\n",
        "      - Hashability : Immutability allows strings to be hashed, making them usable as keys in dictionaries and elements in sets."
      ],
      "metadata": {
        "id": "OddeY3QmRlWr"
      }
    },
    {
      "cell_type": "markdown",
      "source": [
        "11. What advantages do dictionaries offer over lists for certain tasks?\n",
        "  - Dictionaries and lists are both useful, but dictionaries provide specific advantages for certain tasks :\n",
        "      - Dictionaries store data in key-value pairs, making it easier to access values based on unique keys. Whereas, lists store indexed elements, requiring position-based access.\n",
        "      - Dictionaries automatically handle unique keys, whereas lists allow duplicate values, which may cause redundancy.\n",
        "      - Dictionaries use hashing, which allows for near-constant-time lookups. So, you can quickly retrieve a value by providing its key. However, lists require linear time lookups in the worst case, meaning you might have to iterate through the entire list to find a specific element.\n",
        "      - Lists can store different data types, but dictionaries give a more structured way to organize different data types.\n",
        "\n",
        "\n",
        "\n"
      ],
      "metadata": {
        "id": "SR_WLOIrTRh0"
      }
    },
    {
      "cell_type": "markdown",
      "source": [
        "12. Describe a scenario where using a tuple would be preferable over a list.\n",
        "  - Scenario where tuples are preferable over lists :    \n",
        "       - Database configuration settings such as host, port, username, and password should not change at runtime. So, tuple is preferable over a list."
      ],
      "metadata": {
        "id": "gSu1nDscXJC0"
      }
    },
    {
      "cell_type": "code",
      "source": [
        "# Using a tuple\n",
        "config = (\"localhost\", 5432, \"admin\", \"password\")\n",
        "\n",
        "# try to change will raise error\n",
        "config[1] = 8901 # throw error"
      ],
      "metadata": {
        "colab": {
          "base_uri": "https://localhost:8080/",
          "height": 176
        },
        "id": "5_5ZldySY5KR",
        "outputId": "7ea9eb8b-b370-422c-e624-cff8f28cc2fa"
      },
      "execution_count": null,
      "outputs": [
        {
          "output_type": "error",
          "ename": "TypeError",
          "evalue": "'tuple' object does not support item assignment",
          "traceback": [
            "\u001b[0;31m---------------------------------------------------------------------------\u001b[0m",
            "\u001b[0;31mTypeError\u001b[0m                                 Traceback (most recent call last)",
            "\u001b[0;32m<ipython-input-2-5ceacdebe061>\u001b[0m in \u001b[0;36m<cell line: 0>\u001b[0;34m()\u001b[0m\n\u001b[1;32m      3\u001b[0m \u001b[0;34m\u001b[0m\u001b[0m\n\u001b[1;32m      4\u001b[0m \u001b[0;31m# try to change will raise error\u001b[0m\u001b[0;34m\u001b[0m\u001b[0;34m\u001b[0m\u001b[0m\n\u001b[0;32m----> 5\u001b[0;31m \u001b[0mconfig\u001b[0m\u001b[0;34m[\u001b[0m\u001b[0;36m1\u001b[0m\u001b[0;34m]\u001b[0m \u001b[0;34m=\u001b[0m \u001b[0;36m8901\u001b[0m \u001b[0;31m# throw error\u001b[0m\u001b[0;34m\u001b[0m\u001b[0;34m\u001b[0m\u001b[0m\n\u001b[0m",
            "\u001b[0;31mTypeError\u001b[0m: 'tuple' object does not support item assignment"
          ]
        }
      ]
    },
    {
      "cell_type": "markdown",
      "source": [
        "- Here, why we use the tuple over list :\n",
        "     - Prevents accidental modification of sensitive settings.\n",
        "     - Improves data integrity and security.\n",
        "     - Ensures faster execution."
      ],
      "metadata": {
        "id": "P42Ld4G_Zt1J"
      }
    },
    {
      "cell_type": "markdown",
      "source": [
        "13.  How do sets handle duplicate values in Python?\n",
        "  - Sets automatically remove duplicate values when elements are added. Sets only store unique values Because :    \n",
        "      - Sets are unordered collections that store only unique elements.\n",
        "      - If a duplicate value is added, it is ignored and not stored.\n",
        "      - This makes sets useful for removing duplicates.\n",
        "  - Internally working :      \n",
        "      - Python sets utilize a hashing technique, similar to dictionaries, to efficiently manage their elements.\n",
        "      - This hashing allows for very fast checks to determine if an element is already a member of the set.\n",
        "      - If the element is already present, Python simply ignores or prevents any duplicates."
      ],
      "metadata": {
        "id": "5i_1RNjWaU7x"
      }
    },
    {
      "cell_type": "code",
      "source": [
        "# Example : Removing duplicates from a List :\n",
        "l = [1,2,3,3,3,4,4,4,5,6,7,7,8,8,8,9,9,10]\n",
        "print(\"List:\",l)\n",
        "s = set(l) # it take only unique values.\n",
        "print(\"Set:\",s)"
      ],
      "metadata": {
        "colab": {
          "base_uri": "https://localhost:8080/"
        },
        "id": "0sbOu-42ZgoU",
        "outputId": "8d2671c9-16c5-45ab-9ad8-bab491b4aef0"
      },
      "execution_count": null,
      "outputs": [
        {
          "output_type": "stream",
          "name": "stdout",
          "text": [
            "List: [1, 2, 3, 3, 3, 4, 4, 4, 5, 6, 7, 7, 8, 8, 8, 9, 9, 10]\n",
            "Set: {1, 2, 3, 4, 5, 6, 7, 8, 9, 10}\n"
          ]
        }
      ]
    },
    {
      "cell_type": "markdown",
      "source": [
        "14. How does the “in” keyword work differently for lists and dictionaries?\n",
        "  - The 'in' keyword is used to check if a value exists in a collection, but it behaves differently for lists and dictionaries.\n",
        "  - In list :\n",
        "       - The in keyword checks for the presence of a value in the entire list.\n",
        "       - It searches through all elements one by one.\n",
        "  - In dictionary :      \n",
        "       - The in keyword checks only for keys, not values by default.\n",
        "       - It uses a hash table (keys are hashed), making lookup very fast."
      ],
      "metadata": {
        "id": "-EVWMmSLdvC9"
      }
    },
    {
      "cell_type": "code",
      "source": [
        "# Checking in a List :\n",
        "my_list = [1,2,3,4,5]\n",
        "print(\"List:\",my_list)\n",
        "print(\"3 is present in list? :\",3 in my_list) # True\n",
        "\n",
        "#Checking in a dictionary :\n",
        "my_dictionary = {\"name\" : \"Dhruv\", \"age\" : 22, \"state\" : \"gujarat\"}\n",
        "print(\"Dictionary:\",my_dictionary)\n",
        "print(\"22 is present in dictionary? :\",22 in my_dictionary) # False (Values are not checked)\n",
        "print(\"name is present in dictionary? :\",\"name\" in my_dictionary) # True"
      ],
      "metadata": {
        "colab": {
          "base_uri": "https://localhost:8080/"
        },
        "id": "S_b4mprOddf0",
        "outputId": "cc1c3015-cddc-482e-9af4-09e8aef5b474"
      },
      "execution_count": null,
      "outputs": [
        {
          "output_type": "stream",
          "name": "stdout",
          "text": [
            "List: [1, 2, 3, 4, 5]\n",
            "3 is present in list? : True\n",
            "Dictionary: {'name': 'Dhruv', 'age': 22, 'state': 'gujarat'}\n",
            "22 is present in dictionary? : False\n",
            "name is present in dictionary? : True\n"
          ]
        }
      ]
    },
    {
      "cell_type": "markdown",
      "source": [
        "15. Can you modify the elements of a tuple? Explain why or why not?\n",
        "  - No, tuples are immutable, which means their elements cannot be modified after creation.\n",
        "  - Why can't we modify tuples :     \n",
        "      - Memory efficiency : Tuples use less memory since their size and contents don't change.\n",
        "      - Hashability: Because they are immutable, tuples can be used as keys in dictionaries and elements in sets.\n",
        "      - Data Integrity: Ensures data remains unchanged throughout the program.\n",
        "  - Modifying tuples indirectly :     \n",
        "      - If we need to modify a tuple, we can convert it into a list, change the value and then convert it back to a tuple."
      ],
      "metadata": {
        "id": "Mbj5pB_BiLOu"
      }
    },
    {
      "cell_type": "code",
      "source": [
        "# Example : trying to Modify a tuple :\n",
        "t = (1,2,4)\n",
        "print(\"Original tuple:\",t)\n",
        "t[2] = 3 # throw an error\n",
        "print(\"Modified tuple:\",t)"
      ],
      "metadata": {
        "colab": {
          "base_uri": "https://localhost:8080/",
          "height": 211
        },
        "id": "NtgK-oPTg8if",
        "outputId": "a95b38c9-3e06-4451-b2c5-be5483cc8b5d"
      },
      "execution_count": null,
      "outputs": [
        {
          "output_type": "stream",
          "name": "stdout",
          "text": [
            "Original tuple: (1, 2, 4)\n"
          ]
        },
        {
          "output_type": "error",
          "ename": "TypeError",
          "evalue": "'tuple' object does not support item assignment",
          "traceback": [
            "\u001b[0;31m---------------------------------------------------------------------------\u001b[0m",
            "\u001b[0;31mTypeError\u001b[0m                                 Traceback (most recent call last)",
            "\u001b[0;32m<ipython-input-8-2789766343f6>\u001b[0m in \u001b[0;36m<cell line: 0>\u001b[0;34m()\u001b[0m\n\u001b[1;32m      2\u001b[0m \u001b[0mt\u001b[0m \u001b[0;34m=\u001b[0m \u001b[0;34m(\u001b[0m\u001b[0;36m1\u001b[0m\u001b[0;34m,\u001b[0m\u001b[0;36m2\u001b[0m\u001b[0;34m,\u001b[0m\u001b[0;36m4\u001b[0m\u001b[0;34m)\u001b[0m\u001b[0;34m\u001b[0m\u001b[0;34m\u001b[0m\u001b[0m\n\u001b[1;32m      3\u001b[0m \u001b[0mprint\u001b[0m\u001b[0;34m(\u001b[0m\u001b[0;34m\"Original tuple:\"\u001b[0m\u001b[0;34m,\u001b[0m\u001b[0mt\u001b[0m\u001b[0;34m)\u001b[0m\u001b[0;34m\u001b[0m\u001b[0;34m\u001b[0m\u001b[0m\n\u001b[0;32m----> 4\u001b[0;31m \u001b[0mt\u001b[0m\u001b[0;34m[\u001b[0m\u001b[0;36m2\u001b[0m\u001b[0;34m]\u001b[0m \u001b[0;34m=\u001b[0m \u001b[0;36m3\u001b[0m \u001b[0;31m# throw an error\u001b[0m\u001b[0;34m\u001b[0m\u001b[0;34m\u001b[0m\u001b[0m\n\u001b[0m\u001b[1;32m      5\u001b[0m \u001b[0mprint\u001b[0m\u001b[0;34m(\u001b[0m\u001b[0;34m\"Modified tuple:\"\u001b[0m\u001b[0;34m,\u001b[0m\u001b[0mt\u001b[0m\u001b[0;34m)\u001b[0m\u001b[0;34m\u001b[0m\u001b[0;34m\u001b[0m\u001b[0m\n",
            "\u001b[0;31mTypeError\u001b[0m: 'tuple' object does not support item assignment"
          ]
        }
      ]
    },
    {
      "cell_type": "code",
      "source": [
        "# Modifying tuples indirectly :\n",
        "t = (1,2,4)\n",
        "print(\"Original tuple: \",t)\n",
        "l = list(t) # type casting (convert tuple into list)\n",
        "l[2] = 3 # change the value\n",
        "t = tuple(l) # again convert list into tuple\n",
        "print(\"Modified tuple:\",t)"
      ],
      "metadata": {
        "colab": {
          "base_uri": "https://localhost:8080/"
        },
        "id": "A2x_HV_VkOM7",
        "outputId": "efe870c2-78e7-4db1-db65-b50ee1142270"
      },
      "execution_count": null,
      "outputs": [
        {
          "output_type": "stream",
          "name": "stdout",
          "text": [
            "Original tuple:  (1, 2, 4)\n",
            "Modified tuple: (1, 2, 3)\n"
          ]
        }
      ]
    },
    {
      "cell_type": "markdown",
      "source": [
        "16. What is a nested dictionary and give an example of its use case?\n",
        "  - Nested dictionary is a dictionary inside another dictionary. It allows hierarchical storage of data, making it useful for organizing structured information.\n",
        "  - Nested dictionaries are great for handling hierarchical or structured data like JSON data, employee records and configurations."
      ],
      "metadata": {
        "id": "LuCUcs5blQe2"
      }
    },
    {
      "cell_type": "code",
      "source": [
        "# Example use case : School system use a nested dictionary to store student information :\n",
        "students = {\n",
        "    \"101\" : {\"name\" : \"Dhruv\", \"age\" : 22, \"marks\" : {\"python\" : 99, \"data science\" : 96, \"web development\" : 98}},\n",
        "    \"102\" : {\"name\" : \"Raj\", \"age\" : 24, \"marks\" : {\"python\" : 98, \"data science\" : 94, \"web development\" : 96}}\n",
        "}\n",
        "# Accessing a student's python marks\n",
        "print(f'{students[\"101\"][\"name\"]} got the {students[\"101\"][\"marks\"][\"python\"]} marks in python.')"
      ],
      "metadata": {
        "colab": {
          "base_uri": "https://localhost:8080/"
        },
        "id": "-XPYcSUkksWi",
        "outputId": "66ac8f96-f212-4349-f10b-4b792d7b5a7e"
      },
      "execution_count": null,
      "outputs": [
        {
          "output_type": "stream",
          "name": "stdout",
          "text": [
            "Dhruv got the 99 marks in python.\n"
          ]
        }
      ]
    },
    {
      "cell_type": "markdown",
      "source": [
        "17. Describe the time complexity of accessing elements in a dictionary.\n",
        "  - Dictionaries are implemented using hash tables, making element access extremely fast in most cases.\n",
        "  - Dictionary element access is very fast (O(1)) due to hashing, but in rare cases of hash collisions, it can take O(n) time.\n",
        "  - Average Case (O(1)) : Constant Time\n",
        "       - Accessing an element by key (dict[key]) takes O(1) time on average.\n",
        "       - Python computes the hash of the key and directly looks up the value.\n",
        "  - Worst Case (O(n)) : Linear Time\n",
        "       - In rare cases, hash collisions occur, causing multiple keys to be stored in the same memory location.\n",
        "       - When this happens, Python searches through the collided elements (O(n) in the worst case)."
      ],
      "metadata": {
        "id": "bM7UWYDd7JcA"
      }
    },
    {
      "cell_type": "markdown",
      "source": [
        "18. In what situations are lists preferred over dictionaries?\n",
        "  - Lists are preferred over dictionaries in the following cases :   \n",
        "      - Ordered data : Lists maintain the order of elements, while dictionaries (before Python 3.7) didn't maintain the order of elements.\n",
        "      - Sequential access : Lists allow easy iteration using indexes. Whereas, dictionaries Primarily designed for key-based access.\n",
        "      - When keys are not needed : If you don't need key-value relationships, a list is used.\n",
        "      - Memory Efficiency : Lists use less memory than dictionaries because dictionaries store extra metadata for keys.\n",
        "  - Use a list when order matters, for sequential data processing, or when memory efficiency is important.\n",
        "  - Use a dictionary when you need key-value pairs for fast lookups.\n"
      ],
      "metadata": {
        "id": "33kQWHKy9QbI"
      }
    },
    {
      "cell_type": "markdown",
      "source": [
        "19. Why are dictionaries considered unordered and how does that affect data retrieval?\n",
        "  - Before Python 3.7 : Dictionaries were unordered. Python used hash tables and elements could be stored in any order internally.\n",
        "  - Since Python 3.7 : Dictionaries preserve insertion order, meaning that items appear in the order they were added.\n",
        "  - How does this affect data retrieval? :     \n",
        "      -  Since dictionaries use hashing, retrieving a value by key is extremely fast (O(1) average case).\n",
        "      - Unlike lists, dictionaries cannot be accessed by numerical indices (dict[0] is invalid).\n",
        "      - Values must be retrieved using keys (dict[key]).\n",
        "  - We always use the keys when we need to retrieve specific data from a dictionary."
      ],
      "metadata": {
        "id": "Z0CN8aRLAnr3"
      }
    },
    {
      "cell_type": "code",
      "source": [
        "# Data retrieval in dictionary :\n",
        "d = {\"company\" : \"toyota\", \"model\" : \"taisor\" }\n",
        "\n",
        "#Data retrieval using key\n",
        "print(\"Company name:\",d[\"company\"])\n",
        "print(\"Model name:\",d[\"model\"])"
      ],
      "metadata": {
        "colab": {
          "base_uri": "https://localhost:8080/"
        },
        "id": "lgafW5bTDsSK",
        "outputId": "33c3d0a0-ac11-4c0c-872a-e5d49d381470"
      },
      "execution_count": null,
      "outputs": [
        {
          "output_type": "stream",
          "name": "stdout",
          "text": [
            "Company name: toyota\n",
            "Model name: taisor\n"
          ]
        }
      ]
    },
    {
      "cell_type": "markdown",
      "source": [
        "20. Explain the difference between a list and a dictionary in terms of data retrieval.\n",
        "   - Difference between list and dictionary in terms of data retrieval :  \n",
        "   - List :\n",
        "       - Accessed by index (list[index]).\n",
        "       - Retrieval time complexity is O(1) for direct access but O(n) for searching values.\n",
        "       - Maintains insertion order.\n",
        "   - Dictionary :     \n",
        "       - Accessed by key (dict[key]).\n",
        "       - Retrieval time complexity is O(1) due to hash-based lookup.\n",
        "       - Stores key-value pairs and maintains insertion order (after Python 3.7).\n",
        "   - Lists are ideal when we need to access elements based on their position or when we need to maintain a specific order.\n",
        "   - Dictionaries are perfect when we need to access data based on unique identifiers (keys) or when we need to associate data with meaningful labels."
      ],
      "metadata": {
        "id": "NUhdKny7DNFj"
      }
    },
    {
      "cell_type": "code",
      "source": [
        "# Example of data retrieval in list and dictionary :\n",
        "# In list\n",
        "l = [1,2,3,4,5]\n",
        "print(\"List:\",l)\n",
        "# data retrieval\n",
        "print(\"First element of List:\",l[0])\n",
        "\n",
        "# In dictionary\n",
        "fruit_prices = {\"apple\" : 40, \"banana\" : 20, \"pinaple\" : 60}\n",
        "print(\"Dictionary of fruit price:\",fruit_prices)\n",
        "# data retrieval\n",
        "print(\"Price of pinaple is\",fruit_prices[\"pinaple\"])"
      ],
      "metadata": {
        "colab": {
          "base_uri": "https://localhost:8080/"
        },
        "id": "l669dsXgoJ69",
        "outputId": "99563c8c-6ea5-4a12-cdb4-4af052a31dfc"
      },
      "execution_count": null,
      "outputs": [
        {
          "output_type": "stream",
          "name": "stdout",
          "text": [
            "List: [1, 2, 3, 4, 5]\n",
            "First element of List: 1\n",
            "Dictionary of fruit price: {'apple': 40, 'banana': 20, 'pinaple': 60}\n",
            "Price of pinaple is 60\n"
          ]
        }
      ]
    },
    {
      "cell_type": "markdown",
      "source": [
        "# Data Types and Structures : Practical Questions"
      ],
      "metadata": {
        "id": "HPIEqnazk6fu"
      }
    },
    {
      "cell_type": "code",
      "source": [
        "#1. Write a code to create a string with your name and print it.\n",
        "name = \"Dhruv\" # Creating string\n",
        "print(f\"My name is {name}.\")"
      ],
      "metadata": {
        "colab": {
          "base_uri": "https://localhost:8080/"
        },
        "id": "_KCc76QPlCcP",
        "outputId": "d45ec831-454a-4a91-cb7c-48a0ced64e5a"
      },
      "execution_count": null,
      "outputs": [
        {
          "output_type": "stream",
          "name": "stdout",
          "text": [
            "My name is Dhruv.\n"
          ]
        }
      ]
    },
    {
      "cell_type": "code",
      "source": [
        "#2. Write a code to find the length of the string \"Hello World\".\n",
        "s = \"Hello World\"\n",
        "print(\"Length of the string:\",len(s))"
      ],
      "metadata": {
        "colab": {
          "base_uri": "https://localhost:8080/"
        },
        "id": "d5oHkhYClPbd",
        "outputId": "6d670167-319f-4c5b-ccae-511bfec6675c"
      },
      "execution_count": null,
      "outputs": [
        {
          "output_type": "stream",
          "name": "stdout",
          "text": [
            "Length of the string: 11\n"
          ]
        }
      ]
    },
    {
      "cell_type": "code",
      "source": [
        "#3. Write a code to slice the first 3 characters from the string \"Python Programming\".\n",
        "string = \"Python Programming\"\n",
        "print(\"first 3 characters of string:\",string[:3])"
      ],
      "metadata": {
        "colab": {
          "base_uri": "https://localhost:8080/"
        },
        "id": "KHQIRKXQlsn4",
        "outputId": "a802fb9d-0c04-49d2-b0f1-d4d353d84084"
      },
      "execution_count": null,
      "outputs": [
        {
          "output_type": "stream",
          "name": "stdout",
          "text": [
            "first 3 characters of string: Pyt\n"
          ]
        }
      ]
    },
    {
      "cell_type": "code",
      "source": [
        "#4. Write a code to convert the string \"hello\" to uppercase.\n",
        "s = \"hello\"\n",
        "print(\"Uppercase string:\",s.upper())"
      ],
      "metadata": {
        "colab": {
          "base_uri": "https://localhost:8080/"
        },
        "id": "hIsft76RmJAc",
        "outputId": "68f8a93d-6877-4274-ae20-6d45c118bb4c"
      },
      "execution_count": null,
      "outputs": [
        {
          "output_type": "stream",
          "name": "stdout",
          "text": [
            "Uppercase string: HELLO\n"
          ]
        }
      ]
    },
    {
      "cell_type": "code",
      "source": [
        "#5. Write a code to replace the word \"apple\" with \"orange\" in the string \"I like apple\".\n",
        "string = \"I like apple\"\n",
        "print(\"Original string:\",string)\n",
        "modified_string = string.replace(\"apple\",\"orange\")\n",
        "print(\"Modified string:\",modified_string)"
      ],
      "metadata": {
        "colab": {
          "base_uri": "https://localhost:8080/"
        },
        "id": "CJ65soM9mZFH",
        "outputId": "585ce591-baa6-4049-b1f0-d3a8ba5e008d"
      },
      "execution_count": null,
      "outputs": [
        {
          "output_type": "stream",
          "name": "stdout",
          "text": [
            "Original string: I like apple\n",
            "Modified string: I like orange\n"
          ]
        }
      ]
    },
    {
      "cell_type": "code",
      "source": [
        "#6. Write a code to create a list with numbers 1 to 5 and print it.\n",
        "l = [1,2,3,4,5] # creating list\n",
        "print(\"List:\",l)"
      ],
      "metadata": {
        "colab": {
          "base_uri": "https://localhost:8080/"
        },
        "id": "G1E-LbDqm548",
        "outputId": "727ae477-ef10-4e79-f0c7-3b1bc4de5c3c"
      },
      "execution_count": null,
      "outputs": [
        {
          "output_type": "stream",
          "name": "stdout",
          "text": [
            "List: [1, 2, 3, 4, 5]\n"
          ]
        }
      ]
    },
    {
      "cell_type": "code",
      "source": [
        "#7. Write a code to append the number 10 to the list [1, 2, 3, 4].\n",
        "my_list = [1, 2, 3, 4]\n",
        "print(\"Original list:\",my_list)\n",
        "my_list.append(10)\n",
        "print(\"Updated list:\",my_list)"
      ],
      "metadata": {
        "colab": {
          "base_uri": "https://localhost:8080/"
        },
        "id": "twyYZVhQnMQo",
        "outputId": "7401448f-94a0-46bd-9877-e9d8cedb8f5a"
      },
      "execution_count": null,
      "outputs": [
        {
          "output_type": "stream",
          "name": "stdout",
          "text": [
            "Original list: [1, 2, 3, 4]\n",
            "Updated list: [1, 2, 3, 4, 10]\n"
          ]
        }
      ]
    },
    {
      "cell_type": "code",
      "source": [
        "#8. Write a code to remove the number 3 from the list [1, 2, 3, 4, 5].\n",
        "l = [1, 2, 3, 4, 5]\n",
        "print(\"Original list:\",l)\n",
        "l.remove(3)\n",
        "print(\"Updated list:\",l)"
      ],
      "metadata": {
        "colab": {
          "base_uri": "https://localhost:8080/"
        },
        "id": "hQw8gTOtnnX7",
        "outputId": "d9d717bb-d050-48d8-fc59-8ad005635969"
      },
      "execution_count": null,
      "outputs": [
        {
          "output_type": "stream",
          "name": "stdout",
          "text": [
            "Original list: [1, 2, 3, 4, 5]\n",
            "Updated list: [1, 2, 4, 5]\n"
          ]
        }
      ]
    },
    {
      "cell_type": "code",
      "source": [
        "#9. Write a code to access the second element in the list ['a', 'b', 'c', 'd'].\n",
        "char_list = ['a', 'b', 'c', 'd']\n",
        "print(\"List:\",char_list)\n",
        "print(\"Second element of list:\",char_list[1])"
      ],
      "metadata": {
        "colab": {
          "base_uri": "https://localhost:8080/"
        },
        "id": "ydgLvSoVoK7w",
        "outputId": "07555c32-7fd0-4863-81a2-77f0c4bf5956"
      },
      "execution_count": null,
      "outputs": [
        {
          "output_type": "stream",
          "name": "stdout",
          "text": [
            "List: ['a', 'b', 'c', 'd']\n",
            "Second element of list: b\n"
          ]
        }
      ]
    },
    {
      "cell_type": "code",
      "source": [
        "#10. Write a code to reverse the list [10, 20, 30, 40, 50].\n",
        "my_list = [10, 20, 30, 40, 50]\n",
        "reversed_list = []\n",
        "for index in range(len(my_list) - 1, -1, -1):\n",
        "  reversed_list.append(my_list[index])\n",
        "print(\"Original list:\",my_list)\n",
        "print(\"Reversed list:\",reversed_list)"
      ],
      "metadata": {
        "colab": {
          "base_uri": "https://localhost:8080/"
        },
        "id": "LZaXWHq3oiiV",
        "outputId": "23fe5cdb-b2ed-46d3-e600-71bbee271b14"
      },
      "execution_count": null,
      "outputs": [
        {
          "output_type": "stream",
          "name": "stdout",
          "text": [
            "Original list: [10, 20, 30, 40, 50]\n",
            "Reversed list: [50, 40, 30, 20, 10]\n"
          ]
        }
      ]
    },
    {
      "cell_type": "code",
      "source": [
        "#11. Write a code to create a tuple with the elements 100, 200, 300 and print it.\n",
        "t = (100, 200, 300) # creating tuple\n",
        "print(\"Tuple:\",t)"
      ],
      "metadata": {
        "colab": {
          "base_uri": "https://localhost:8080/"
        },
        "id": "tUN9hnbPpY7A",
        "outputId": "d7201c97-1269-43d6-857f-e68855c69322"
      },
      "execution_count": null,
      "outputs": [
        {
          "output_type": "stream",
          "name": "stdout",
          "text": [
            "Tuple: (100, 200, 300)\n"
          ]
        }
      ]
    },
    {
      "cell_type": "code",
      "source": [
        "#12. Write a code to access the second-to-last element of the tuple ('red', 'green', 'blue', 'yellow').\n",
        "color_tuple = ('red', 'green', 'blue', 'yellow')\n",
        "print(\"Tuple:\", color_tuple)\n",
        "print(\"Second last element of tuple:\",color_tuple[-2])"
      ],
      "metadata": {
        "colab": {
          "base_uri": "https://localhost:8080/"
        },
        "id": "woo2sEdhprqz",
        "outputId": "cdb96abf-3bc4-450b-c33b-a028dd98316d"
      },
      "execution_count": null,
      "outputs": [
        {
          "output_type": "stream",
          "name": "stdout",
          "text": [
            "Tuple: ('red', 'green', 'blue', 'yellow')\n",
            "Second last element of tuple: blue\n"
          ]
        }
      ]
    },
    {
      "cell_type": "code",
      "source": [
        "#13. Write a code to find the minimum number in the tuple (10, 20, 5, 15).\n",
        "my_tuple = (10, 20, 5, 15)\n",
        "print(\"Tuple:\",my_tuple)\n",
        "print(\"Mininum number in tuple:\",min(my_tuple))"
      ],
      "metadata": {
        "colab": {
          "base_uri": "https://localhost:8080/"
        },
        "id": "GC0Y_wLDqG48",
        "outputId": "28e8dbc0-01d8-4b22-be3f-f13373e39f76"
      },
      "execution_count": null,
      "outputs": [
        {
          "output_type": "stream",
          "name": "stdout",
          "text": [
            "Tuple: (10, 20, 5, 15)\n",
            "Mininum number in tuple: 5\n"
          ]
        }
      ]
    },
    {
      "cell_type": "code",
      "source": [
        "#14. Write a code to find the index of the element \"cat\" in the tuple ('dog', 'cat', 'rabbit').\n",
        "t = ('dog', 'cat', 'rabbit')\n",
        "print(\"Tuple:\",t)\n",
        "print(\"Index of cat in tuple:\",t.index(\"cat\"))"
      ],
      "metadata": {
        "colab": {
          "base_uri": "https://localhost:8080/"
        },
        "id": "ldNpnTr4qfsH",
        "outputId": "0689cc64-13d0-4f38-e159-6914bcf80ace"
      },
      "execution_count": null,
      "outputs": [
        {
          "output_type": "stream",
          "name": "stdout",
          "text": [
            "Tuple: ('dog', 'cat', 'rabbit')\n",
            "Index of cat in tuple: 1\n"
          ]
        }
      ]
    },
    {
      "cell_type": "code",
      "source": [
        "#15. Write a code to create a tuple containing three different fruits and check if \"kiwi\" is in it.\n",
        "fruits = (\"apple\", \"banana\", \"kiwi\")\n",
        "print(\"Fruits:\",fruits)\n",
        "if (\"kiwi\" in fruits):\n",
        "  print(\"kiwi is in fruits tuple.\")\n",
        "else:\n",
        "  print(\"kiwi is not in fruits tuple.\")"
      ],
      "metadata": {
        "colab": {
          "base_uri": "https://localhost:8080/"
        },
        "id": "tiecAt8wq3QU",
        "outputId": "24e6dff5-0346-4d42-cc43-8d1b9bf5c016"
      },
      "execution_count": null,
      "outputs": [
        {
          "output_type": "stream",
          "name": "stdout",
          "text": [
            "Fruits: ('apple', 'banana', 'kiwi')\n",
            "kiwi is in fruits tuple.\n"
          ]
        }
      ]
    },
    {
      "cell_type": "code",
      "source": [
        "#16. Write a code to create a set with the elements 'a', 'b', 'c' and print it.\n",
        "s = {\"a\", \"b\", \"c\"}\n",
        "print(\"Set:\",s)"
      ],
      "metadata": {
        "colab": {
          "base_uri": "https://localhost:8080/"
        },
        "id": "989T3rLermLM",
        "outputId": "addc54b7-9749-4ee9-e950-b35d3e771602"
      },
      "execution_count": null,
      "outputs": [
        {
          "output_type": "stream",
          "name": "stdout",
          "text": [
            "Set: {'b', 'c', 'a'}\n"
          ]
        }
      ]
    },
    {
      "cell_type": "code",
      "source": [
        "#17. Write a code to clear all elements from the set {1, 2, 3, 4, 5}.\n",
        "s = {1, 2, 3, 4, 5}\n",
        "print(\"Set:\",s)\n",
        "s.clear() # clear all elements from the set\n",
        "print(\"After clear all the elements of set:\", s)"
      ],
      "metadata": {
        "colab": {
          "base_uri": "https://localhost:8080/"
        },
        "id": "t8mepQD1EgBR",
        "outputId": "08ec6a0d-bae3-4d35-e3a6-73990cc0cf01"
      },
      "execution_count": null,
      "outputs": [
        {
          "output_type": "stream",
          "name": "stdout",
          "text": [
            "Set: {1, 2, 3, 4, 5}\n",
            "After clear all the elements of set: set()\n"
          ]
        }
      ]
    },
    {
      "cell_type": "code",
      "source": [
        "#18. Write a code to remove the element 4 from the set {1, 2, 3, 4}.\n",
        "s = {1, 2, 3, 4}\n",
        "print(\"Set:\",s)\n",
        "s.remove(4) #remove 4 from the set\n",
        "print(\"After removing 4 from set:\",s)"
      ],
      "metadata": {
        "colab": {
          "base_uri": "https://localhost:8080/"
        },
        "id": "qHVsmyBbFBpo",
        "outputId": "a12e5ba1-f084-463f-b281-7dc26f11f89c"
      },
      "execution_count": null,
      "outputs": [
        {
          "output_type": "stream",
          "name": "stdout",
          "text": [
            "Set: {1, 2, 3, 4}\n",
            "After removing 4 from set: {1, 2, 3}\n"
          ]
        }
      ]
    },
    {
      "cell_type": "code",
      "source": [
        "#19. Write a code to find the union of two sets {1, 2, 3} and {3, 4, 5}.\n",
        "s1 = {1, 2, 3}\n",
        "s2 = {3, 4, 5}\n",
        "print(\"Set 1:\",s1)\n",
        "print(\"Set 2:\",s2)\n",
        "s3 = s1 | s2 # union of set 1 and set 2\n",
        "print(\"Union of set 1 and set 2:\",s3)"
      ],
      "metadata": {
        "colab": {
          "base_uri": "https://localhost:8080/"
        },
        "id": "pbNeVTSsF26d",
        "outputId": "2e4b7494-e9d4-423a-8a52-211677a1b329"
      },
      "execution_count": null,
      "outputs": [
        {
          "output_type": "stream",
          "name": "stdout",
          "text": [
            "Set 1: {1, 2, 3}\n",
            "Set 2: {3, 4, 5}\n",
            "Union of set 1 and set 2: {1, 2, 3, 4, 5}\n"
          ]
        }
      ]
    },
    {
      "cell_type": "code",
      "source": [
        "#20. Write a code to find the intersection of two sets {1, 2, 3} and {2, 3, 4}.\n",
        "s1 = {1, 2, 3}\n",
        "s2 = {2, 3, 4}\n",
        "print(\"Set 1:\",s1)\n",
        "print(\"Set 2:\",s2)\n",
        "s3 = s1 & s2 # intersecction of set 1 and set 2\n",
        "print(\"Intersection of set 1 and set 2:\",s3)"
      ],
      "metadata": {
        "colab": {
          "base_uri": "https://localhost:8080/"
        },
        "id": "v78-drsYGwM0",
        "outputId": "ed650aef-074b-4f4e-a2dc-b7be66afd507"
      },
      "execution_count": null,
      "outputs": [
        {
          "output_type": "stream",
          "name": "stdout",
          "text": [
            "Set 1: {1, 2, 3}\n",
            "Set 2: {2, 3, 4}\n",
            "Intersection of set 1 and set 2: {2, 3}\n"
          ]
        }
      ]
    },
    {
      "cell_type": "code",
      "source": [
        "#21. Write a code to create a dictionary with the keys \"name\", \"age\" and \"city\" and print it.\n",
        "my_dict = {\n",
        "    \"name\" : \"Dhruv\",\n",
        "    \"age\" : 22,\n",
        "    \"city\" : \"Mumbai\"\n",
        "}\n",
        "print(\"Dictionary:\",my_dict)"
      ],
      "metadata": {
        "colab": {
          "base_uri": "https://localhost:8080/"
        },
        "id": "-e8e2nnvH0pA",
        "outputId": "ec0d0cc4-e130-49f0-be6c-0606d43c5c3b"
      },
      "execution_count": null,
      "outputs": [
        {
          "output_type": "stream",
          "name": "stdout",
          "text": [
            "Dictionary: {'name': 'Dhruv', 'age': 22, 'city': 'Mumbai'}\n"
          ]
        }
      ]
    },
    {
      "cell_type": "code",
      "source": [
        "#22. Write a code to add a new key-value pair \"country\": \"USA\" to the dictionary {'name': 'John', 'age': 25}.\n",
        "dictionary = {\n",
        "    'name' : 'John',\n",
        "    'age' : 25\n",
        "    }\n",
        "print(\"Dictionary:\",dictionary)\n",
        "dictionary['country'] = 'USA' # add a new key - value pair\n",
        "print(\"Updated dictionary:\",dictionary)"
      ],
      "metadata": {
        "colab": {
          "base_uri": "https://localhost:8080/"
        },
        "id": "8IkgoJ3tIonL",
        "outputId": "960c278b-703f-4f1a-93f4-621e64f236e5"
      },
      "execution_count": null,
      "outputs": [
        {
          "output_type": "stream",
          "name": "stdout",
          "text": [
            "Dictionary: {'name': 'John', 'age': 25}\n",
            "Updated dictionary: {'name': 'John', 'age': 25, 'country': 'USA'}\n"
          ]
        }
      ]
    },
    {
      "cell_type": "code",
      "source": [
        "#23. Write a code to access the value associated with the key \"name\" in the dictionary {'name': 'Alice', 'age': 30}.\n",
        "my_dict = {\n",
        "    'name' : 'Alice',\n",
        "    'age' : 30\n",
        "}\n",
        "print(\"Name:\",my_dict['name'])"
      ],
      "metadata": {
        "colab": {
          "base_uri": "https://localhost:8080/"
        },
        "id": "knFYYXMQJ1sn",
        "outputId": "24f7e7cf-02dc-47fe-995d-e4a49ea375df"
      },
      "execution_count": null,
      "outputs": [
        {
          "output_type": "stream",
          "name": "stdout",
          "text": [
            "Name: Alice\n"
          ]
        }
      ]
    },
    {
      "cell_type": "code",
      "source": [
        "#24. Write a code to remove the key \"age\" from the dictionary {'name': 'Bob', 'age': 22, 'city': 'New York'}.\n",
        "student = {\n",
        "    'name' : 'Bob',\n",
        "    'age' : 22,\n",
        "    'city' : 'New York'\n",
        "}\n",
        "print(\"Dictionary:\",student)\n",
        "student.pop('age') # remove the key 'age'\n",
        "print(\"Updated dictionary:\",student)"
      ],
      "metadata": {
        "colab": {
          "base_uri": "https://localhost:8080/"
        },
        "id": "OU5k2LPoKbo2",
        "outputId": "7332fa7b-dfe7-4410-d34e-30860a7a5386"
      },
      "execution_count": null,
      "outputs": [
        {
          "output_type": "stream",
          "name": "stdout",
          "text": [
            "Dictionary: {'name': 'Bob', 'age': 22, 'city': 'New York'}\n",
            "Updated dictionary: {'name': 'Bob', 'city': 'New York'}\n"
          ]
        }
      ]
    },
    {
      "cell_type": "code",
      "source": [
        "#25. Write a code to check if the key \"city\" exists in the dictionary {'name': 'Alice', 'city': 'Paris'}.\n",
        "dict1 = {\n",
        "    'name' : 'Alice',\n",
        "    'city' : 'Paris'\n",
        "}\n",
        "print(\"Dictionary:\",dict1)\n",
        "if 'city' in dict1:\n",
        "  print(\"'city' is present in dictionary.\")\n",
        "else:\n",
        "  print(\"'city' is not present in dictionary.\")"
      ],
      "metadata": {
        "colab": {
          "base_uri": "https://localhost:8080/"
        },
        "id": "-vNrsdUfLmkL",
        "outputId": "598957db-799c-418c-9721-2afd2047bd8d"
      },
      "execution_count": null,
      "outputs": [
        {
          "output_type": "stream",
          "name": "stdout",
          "text": [
            "Dictionary: {'name': 'Alice', 'city': 'Paris'}\n",
            "'city' is present in dictionary.\n"
          ]
        }
      ]
    },
    {
      "cell_type": "code",
      "source": [
        "#26. Write a code to create a list, a tuple and a dictionary and print them all.\n",
        "l = [1, 2, 3, 4] # creating list\n",
        "t = (1, 2, 3, 4) # creating tuple\n",
        "d = {'a' : 1, 'b' : 2, 'c' : 3} # creating dictionary\n",
        "print(\"List:\",l)\n",
        "print(\"Tuple:\",t)\n",
        "print(\"Dictionary:\",d)"
      ],
      "metadata": {
        "colab": {
          "base_uri": "https://localhost:8080/"
        },
        "id": "uE2SqQNSMmyP",
        "outputId": "139c78c6-1d13-4dda-814e-108665c746e5"
      },
      "execution_count": null,
      "outputs": [
        {
          "output_type": "stream",
          "name": "stdout",
          "text": [
            "List: [1, 2, 3, 4]\n",
            "Tuple: (1, 2, 3, 4)\n",
            "Dictionary: {'a': 1, 'b': 2, 'c': 3}\n"
          ]
        }
      ]
    },
    {
      "cell_type": "code",
      "source": [
        "#27. Write a code to create a list of 5 random numbers between 1 and 100, sort it in ascending order and print the result.(replaced)\n",
        "import random\n",
        "random_numbers = [random.randint(1,100) for _ in range(5)]\n",
        "random_numbers.sort() # sort the list in ascending order\n",
        "print(\"Sorted random numbers:\",random_numbers)"
      ],
      "metadata": {
        "colab": {
          "base_uri": "https://localhost:8080/"
        },
        "id": "_sMALKm9OeBz",
        "outputId": "fde621f8-0197-43af-886b-877ccffc6ccf"
      },
      "execution_count": null,
      "outputs": [
        {
          "output_type": "stream",
          "name": "stdout",
          "text": [
            "Sorted random numbers: [34, 36, 44, 72, 83]\n"
          ]
        }
      ]
    },
    {
      "cell_type": "code",
      "source": [
        "#28. Write a code to create a list with strings and print the element at the third index.\n",
        "string_list = [\"apple\", \"banana\", \"pinapple\", \"orange\", \"kiwi\"]\n",
        "print(\"List:\",string_list)\n",
        "print(\"Element at third index:\",string_list[3])"
      ],
      "metadata": {
        "colab": {
          "base_uri": "https://localhost:8080/"
        },
        "id": "CoHsUQc9Xcc6",
        "outputId": "9a12aabd-fd26-469d-9f7f-91b670dbe62f"
      },
      "execution_count": null,
      "outputs": [
        {
          "output_type": "stream",
          "name": "stdout",
          "text": [
            "List: ['apple', 'banana', 'pinapple', 'orange', 'kiwi']\n",
            "Element at third index: orange\n"
          ]
        }
      ]
    },
    {
      "cell_type": "code",
      "source": [
        "#29. Write a code to combine two dictionaries into one and print the result.\n",
        "dict1 = {\n",
        "    'a' : 1,\n",
        "    'b' : 2,\n",
        "    'c' : 3\n",
        "}\n",
        "dict2 = {\n",
        "    'd' : 4,\n",
        "    'e' : 5,\n",
        "    'f' : 6\n",
        "}\n",
        "print(\"Dictionary 1:\",dict1)\n",
        "print(\"Dictionary 2:\",dict2)\n",
        "# combine two dictionary\n",
        "combined_dict = dict1.copy()\n",
        "combined_dict.update(dict2)\n",
        "print(\"Combined Dictionary:\",combined_dict)"
      ],
      "metadata": {
        "colab": {
          "base_uri": "https://localhost:8080/"
        },
        "id": "87hYK7_rYh_e",
        "outputId": "4cfc11d2-f2c5-4532-b3b1-d90de005ab8f"
      },
      "execution_count": null,
      "outputs": [
        {
          "output_type": "stream",
          "name": "stdout",
          "text": [
            "Dictionary 1: {'a': 1, 'b': 2, 'c': 3}\n",
            "Dictionary 2: {'d': 4, 'e': 5, 'f': 6}\n",
            "Combined Dictionary: {'a': 1, 'b': 2, 'c': 3, 'd': 4, 'e': 5, 'f': 6}\n"
          ]
        }
      ]
    },
    {
      "cell_type": "code",
      "source": [
        "#30. Write a code to convert a list of strings into a set.\n",
        "string_list = [\"Lion\", \"Tiger\", \"Elephant\", \"Lion\", \"Tiger\"]\n",
        "print(\"List:\",string_list)\n",
        "string_set = set(string_list) # covert a list into set\n",
        "print(\"Set:\",string_set)"
      ],
      "metadata": {
        "colab": {
          "base_uri": "https://localhost:8080/"
        },
        "id": "jRtimQ98aXPN",
        "outputId": "e3a85c4f-17cb-45cd-8695-122c4303af05"
      },
      "execution_count": null,
      "outputs": [
        {
          "output_type": "stream",
          "name": "stdout",
          "text": [
            "List: ['Lion', 'Tiger', 'Elephant', 'Lion', 'Tiger']\n",
            "Set: {'Elephant', 'Lion', 'Tiger'}\n"
          ]
        }
      ]
    }
  ]
}